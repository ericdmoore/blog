{
 "cells": [
  {
   "cell_type": "code",
   "execution_count": 1,
   "metadata": {},
   "outputs": [
    {
     "name": "stdout",
     "output_type": "stream",
     "text": [
      "v6.10.1\n"
     ]
    }
   ],
   "source": [
    "console.log(process.version)"
   ]
  },
  {
   "cell_type": "code",
   "execution_count": 3,
   "metadata": {},
   "outputs": [
    {
     "name": "stderr",
     "output_type": "stream",
     "text": [
      "+ export NODE_PATH=/Users/ericmoore/.nvm/versions/node/v6.10.1/lib/node_modules\n",
      "+ NODE_PATH=/Users/ericmoore/.nvm/versions/node/v6.10.1/lib/node_modules\n"
     ]
    }
   ],
   "source": [
    "! export NODE_PATH=/Users/ericmoore/.nvm/versions/node/v6.10.1/lib/node_modules"
   ]
  },
  {
   "cell_type": "code",
   "execution_count": 3,
   "metadata": {},
   "outputs": [
    {
     "ename": "Javascript Error",
     "evalue": "Cannot find module 'aws-sdk'",
     "output_type": "error",
     "traceback": [
      "Error: Cannot find module 'aws-sdk'\n    at Function.Module._resolveFilename (module.js:469:15)\n    at Function.Module._load (module.js:417:25)\n    at Module.require (module.js:497:17)\n    at require (internal/module.js:20:19)\n    at /Users/ericmoore/Library/Jupyter/kernels/nodejs/jupyter-nodejs/build/context.js:78:16\n    at require (/Users/ericmoore/Library/Jupyter/kernels/nodejs/jupyter-nodejs/build/context.js:58:27)\n    at evalmachine.<anonymous>:1:11\n    at ContextifyScript.Script.runInContext (vm.js:35:29)\n    at Object.runInContext (vm.js:89:6)\n    at Context.rawRun (/Users/ericmoore/Library/Jupyter/kernels/nodejs/jupyter-nodejs/build/context.js:184:30)"
     ]
    }
   ],
   "source": [
    "var AWS = require('aws-sdk');"
   ]
  },
  {
   "cell_type": "code",
   "execution_count": null,
   "metadata": {},
   "outputs": [],
   "source": []
  }
 ],
 "metadata": {
  "kernelspec": {
   "display_name": "NodeJS",
   "language": "javascript",
   "name": "nodejs"
  },
  "language_info": {
   "codemirror_mode": "javascript",
   "file_extension": ".js",
   "mimetype": "text/javascript",
   "name": "nodejs",
   "pygments_lexer": "javascript",
   "version": "0.10"
  }
 },
 "nbformat": 4,
 "nbformat_minor": 2
}
