{
 "cells": [
  {
   "cell_type": "code",
   "execution_count": 1,
   "metadata": {},
   "outputs": [],
   "source": [
    "import asyncio\n",
    "import datetime\n",
    "import time\n",
    "import pprint\n",
    "\n",
    "import uvloop\n",
    "import boto3\n",
    "from addict import Dict\n",
    "\n",
    "import uuid\n",
    "\n",
    "asyncio.set_event_loop_policy(uvloop.EventLoopPolicy())\n",
    "pretty = pprint.PrettyPrinter(indent=1)"
   ]
  },
  {
   "cell_type": "code",
   "execution_count": 2,
   "metadata": {},
   "outputs": [],
   "source": [
    "# see https://boto3.readthedocs.io/en/latest/reference/services/dynamodb.html?highlight=dynamodb#service-resource\n",
    "dydbr = boto3.resource('dynamodb', endpoint_url='http://localhost:8000')"
   ]
  },
  {
   "cell_type": "code",
   "execution_count": 3,
   "metadata": {},
   "outputs": [],
   "source": [
    "def _Drop(dynamoR, TableName):\n",
    "    \"\"\" Overview: _Drop is a meta function that abstracting away the boto logic\n",
    "        for each of the particular table operator.\n",
    "        \n",
    "        @param dynamoR is a boto3 session resource\n",
    "        @param TableName is a str-like value naming the table to issues commands about\n",
    "    \"\"\"    \n",
    "    \n",
    "    try:\n",
    "        r = dynamoR.meta.client.delete_table(TableName=TableName)\n",
    "    except Exception as e:\n",
    "        r = {'TableDescription':{\"error\":\"ResourceNotFoundException\",\"message\":\"Cannot do operations on a non-existent table\"}}\n",
    "    finally:\n",
    "        return r\n",
    "\n",
    "def _Wipe(dynamoR, TableName, CreateFN):\n",
    "    \"\"\" Overview: _Wipe is a meta function that abstracts the similar parts for \n",
    "        each of the particular table constructors.\n",
    "        \n",
    "        @param dynamoR is a boto3 session resource\n",
    "        @param TableName is a str-like value naming the table to issues commands about\n",
    "        @param CreateFN is a function pointer to the create function for the table in question\n",
    "    \"\"\"\n",
    "    waitForGone = dynamoR.meta.client.get_waiter('table_not_exists')\n",
    "    waitForHere = dynamoR.meta.client.get_waiter('table_exists')\n",
    "    \n",
    "    # start delete then wait\n",
    "    _Drop(dynamoR, TableName)\n",
    "    waitForGone.wait(TableName=TableName,WaiterConfig={'Delay': 6,'MaxAttempts':10 })\n",
    "    \n",
    "    # start create then wait \n",
    "    CreateFN(dynamoR)\n",
    "    waitForHere.wait(TableName=TableName,WaiterConfig={'Delay': 6,'MaxAttempts':10 })\n",
    "    \n",
    "    return dynamoR.meta.client.describe_table(TableName=TableName)"
   ]
  },
  {
   "cell_type": "code",
   "execution_count": 4,
   "metadata": {},
   "outputs": [],
   "source": [
    "def postTableCreate(dynamoR):\n",
    "    return dynamoR.create_table(\n",
    "        TableName='Posts',\n",
    "        AttributeDefinitions=[\n",
    "            {'AttributeName': '_id',\n",
    "                'AttributeType': 'S'},\n",
    "            {'AttributeName': '_loc',\n",
    "                'AttributeType': 'S'}\n",
    "        ],\n",
    "        KeySchema=[\n",
    "            {'AttributeName': '_id',\n",
    "                'KeyType': 'HASH'}      \n",
    "        ],\n",
    "        GlobalSecondaryIndexes=[\n",
    "            {   'IndexName': 'ix_LOC',\n",
    "                'KeySchema': [\n",
    "                    {'AttributeName': '_loc',\n",
    "                        'KeyType': 'HASH'},\n",
    "                ],\n",
    "                'Projection': {\n",
    "                    'ProjectionType': 'ALL'\n",
    "                },\n",
    "                'ProvisionedThroughput': {\n",
    "                    'ReadCapacityUnits': 3,\n",
    "                    'WriteCapacityUnits': 3\n",
    "                }\n",
    "            }\n",
    "        ],\n",
    "        ProvisionedThroughput={\n",
    "            'ReadCapacityUnits': 5,\n",
    "            'WriteCapacityUnits': 5\n",
    "        }\n",
    "    )\n",
    "\n",
    "def postTableDrop(dynamoR):\n",
    "    return _Drop(dynamoR, 'Posts')\n",
    "\n",
    "def postTableWipe(dynamoR):\n",
    "    \"\"\" @param dynamoR is a boto3 client \"\"\"\n",
    "    return _Wipe(dynamoR, 'Posts', postTableCreate)"
   ]
  },
  {
   "cell_type": "code",
   "execution_count": 5,
   "metadata": {},
   "outputs": [],
   "source": [
    "def yearIdxTableCreate(dynamoR):\n",
    "    return dynamoR.create_table(\n",
    "        TableName='YearIdx',\n",
    "        AttributeDefinitions=[\n",
    "            {'AttributeName': 'yearIdx',\n",
    "                'AttributeType': 'S'}\n",
    "        ],\n",
    "        KeySchema=[\n",
    "            {'AttributeName': 'yearIdx',\n",
    "                'KeyType': 'HASH'}\n",
    "        ],\n",
    "        ProvisionedThroughput={\n",
    "            'ReadCapacityUnits': 3,\n",
    "            'WriteCapacityUnits': 3\n",
    "        }\n",
    "    )\n",
    "def yearIdxTableDrop(dynamoR):\n",
    "    return _Drop(dynamoR, 'YearIdx')\n",
    "def yearIdxTableWipe(dynamoR):\n",
    "    return _Wipe(dynamoR, 'YearIdx', yearIdxTableCreate)"
   ]
  },
  {
   "cell_type": "code",
   "execution_count": 6,
   "metadata": {},
   "outputs": [],
   "source": [
    "def monthIdxTableCreate(dynamoR):\n",
    "    return dynamoR.create_table(\n",
    "        TableName='MonthIdx',\n",
    "        AttributeDefinitions=[\n",
    "            {'AttributeName': 'monthIdx',\n",
    "                'AttributeType': 'S'}\n",
    "        ],\n",
    "        KeySchema=[\n",
    "            {'AttributeName': 'monthIdx',\n",
    "                'KeyType': 'HASH'}\n",
    "        ],\n",
    "        ProvisionedThroughput={\n",
    "            'ReadCapacityUnits': 3,\n",
    "            'WriteCapacityUnits': 3\n",
    "        }\n",
    "    )\n",
    "def monthIdxTableDrop(dynamoR):\n",
    "    return _Drop(dynamoR, 'MonthIdx')\n",
    "def monthIdxTableWipe(dynamoR):\n",
    "    return _Wipe(dynamoR, 'MonthIdx', monthIdxTableCreate)"
   ]
  },
  {
   "cell_type": "code",
   "execution_count": 7,
   "metadata": {},
   "outputs": [],
   "source": [
    "def SiteStateTableCreate(dynamoR):\n",
    "    return dynamoR.create_table(\n",
    "        TableName='SiteState',\n",
    "        AttributeDefinitions=[\n",
    "            {'AttributeName': 'year',\n",
    "                'AttributeType': 'N'},\n",
    "            {'AttributeName': 'epoch',\n",
    "                'AttributeType': 'N'},            \n",
    "        ],\n",
    "        KeySchema=[\n",
    "            {'AttributeName': 'year',\n",
    "                'KeyType': 'HASH'},\n",
    "            {'AttributeName': 'epoch',\n",
    "                'KeyType': 'RANGE'},            \n",
    "        ],\n",
    "        ProvisionedThroughput={\n",
    "            'ReadCapacityUnits': 3,\n",
    "            'WriteCapacityUnits': 3\n",
    "        }\n",
    "    )\n",
    "def SiteStateTableDrop(dynamoR):\n",
    "    return _Drop(dynamoR, 'SiteState')\n",
    "def SiteStateTableWipe(dynamoR):\n",
    "    return _Wipe(dynamoR, 'SiteState', SiteStateTableCreate)"
   ]
  },
  {
   "cell_type": "code",
   "execution_count": 8,
   "metadata": {},
   "outputs": [
    {
     "name": "stdout",
     "output_type": "stream",
     "text": [
      "{'error': 'ResourceNotFoundException',\n",
      " 'message': 'Cannot do operations on a non-existent table'}\n",
      "{'error': 'ResourceNotFoundException',\n",
      " 'message': 'Cannot do operations on a non-existent table'}\n",
      "{'error': 'ResourceNotFoundException',\n",
      " 'message': 'Cannot do operations on a non-existent table'}\n",
      "{'error': 'ResourceNotFoundException',\n",
      " 'message': 'Cannot do operations on a non-existent table'}\n"
     ]
    }
   ],
   "source": [
    "# Drop All TablesClear Out\n",
    "pretty.pprint(yearIdxTableDrop(dydbr)['TableDescription'])\n",
    "pretty.pprint(monthIdxTableDrop(dydbr)['TableDescription'])\n",
    "pretty.pprint(postTableDrop(dydbr)['TableDescription'])\n",
    "pretty.pprint(SiteStateTableDrop(dydbr)['TableDescription'])"
   ]
  },
  {
   "cell_type": "code",
   "execution_count": 19,
   "metadata": {},
   "outputs": [
    {
     "name": "stdout",
     "output_type": "stream",
     "text": [
      "dynamodb.Table(name='Posts')\n",
      "dynamodb.Table(name='MonthIdx')\n",
      "dynamodb.Table(name='YearIdx')\n",
      "dynamodb.Table(name='SiteState')\n"
     ]
    }
   ],
   "source": [
    "p = postTableCreate(dydbr)\n",
    "m = monthIdxTableCreate(dydbr)\n",
    "y = yearIdxTableCreate(dydbr)\n",
    "state = SiteStateTableCreate(dydbr)\n",
    "\n",
    "pretty.pprint(p)\n",
    "pretty.pprint(m)\n",
    "pretty.pprint(y)\n",
    "pretty.pprint(state)"
   ]
  },
  {
   "cell_type": "code",
   "execution_count": 10,
   "metadata": {},
   "outputs": [
    {
     "name": "stdout",
     "output_type": "stream",
     "text": [
      "Posts ACTIVE 0\n",
      "MonthIdx ACTIVE 0\n",
      "YearIdx ACTIVE 0\n",
      "SiteState ACTIVE 0\n"
     ]
    }
   ],
   "source": [
    "p = Dict(postTableWipe(dydbr))\n",
    "m = Dict(monthIdxTableWipe(dydbr))\n",
    "y = Dict(yearIdxTableWipe(dydbr))\n",
    "state = Dict(SiteStateTableWipe(dydbr))\n",
    "\n",
    "print(p.Table.TableName +\" \"+ p.Table.TableStatus +\" \"+ str(p.Table.ItemCount))\n",
    "print(m.Table.TableName +\" \"+ m.Table.TableStatus +\" \"+ str(m.Table.ItemCount))\n",
    "print(y.Table.TableName +\" \"+ y.Table.TableStatus +\" \"+ str(y.Table.ItemCount))\n",
    "print(state.Table.TableName +\" \"+ state.Table.TableStatus +\" \"+ str(state.Table.ItemCount))"
   ]
  },
  {
   "cell_type": "code",
   "execution_count": 11,
   "metadata": {},
   "outputs": [
    {
     "data": {
      "text/plain": [
       "['MonthIdx', 'Posts', 'SiteState', 'YearIdx']"
      ]
     },
     "execution_count": 11,
     "metadata": {},
     "output_type": "execute_result"
    }
   ],
   "source": [
    "d = Dict(dydbr.meta.client.list_tables())\n",
    "d.TableNames"
   ]
  },
  {
   "cell_type": "code",
   "execution_count": 20,
   "metadata": {},
   "outputs": [
    {
     "name": "stdout",
     "output_type": "stream",
     "text": [
      "Posts 0 0\n",
      "MonthIdx 0 0\n",
      "YearIdx 0 0\n",
      "SiteState 0 0\n"
     ]
    }
   ],
   "source": [
    "p = Dict(postTableDrop(dydbr))\n",
    "m = Dict(monthIdxTableDrop(dydbr))\n",
    "y = Dict(yearIdxTableDrop(dydbr))\n",
    "state = Dict(SiteStateTableDrop(dydbr))\n",
    "\n",
    "# lop off the http response meta data  \n",
    "p = p.TableDescription\n",
    "m = m.TableDescription\n",
    "y = y.TableDescription\n",
    "state = state.TableDescription\n",
    "\n",
    "# pretty.pprint(p)\n",
    "# pretty.pprint(m)\n",
    "# pretty.pprint(y)\n",
    "# pretty.pprint(state)\n",
    "\n",
    "print( p.TableName     +' '+ str(p.ItemCount)     +' '+ str(p.TableSizeBytes))\n",
    "print( m.TableName     +' '+ str(m.ItemCount)     +' '+ str(m.TableSizeBytes))\n",
    "print( y.TableName     +' '+ str(y.ItemCount)     +' '+ str(y.TableSizeBytes))\n",
    "print( state.TableName +' '+ str(state.ItemCount) +' '+ str(state.TableSizeBytes))\n"
   ]
  },
  {
   "cell_type": "raw",
   "metadata": {},
   "source": [
    "async def createTable():\n",
    "    await asyncio.sleep(1)\n",
    "    return uuid.uuid4() # return table\n",
    "\n",
    "async def populateTable(table, n):\n",
    "    ret = {}\n",
    "    ret[str(table)] = []\n",
    "    \n",
    "    for i in range(n):\n",
    "        await asyncio.sleep(.100)\n",
    "        ret[str(table)].append(uuid.uuid4())\n",
    "    \n",
    "    return ret\n",
    "\n",
    "async def doWork(n):\n",
    "    tableName1 = str(await createTable()) #cost=1s\n",
    "    data1 = await populateTable(tableName1, int(n)) #cost .1/N => 10*.1 = 1s\n",
    "    # pretty.pprint(data1)\n",
    "    return data1\n",
    "\n",
    "def async printme(input):\n",
    "    await asyncio.sleep(1)\n",
    "    # pretty.pprint(dir(input))\n",
    "    print(\"\")\n",
    "    pretty.pprint(input.result())\n",
    "    return input.result()\n",
    "\n",
    "def async printagain(input):\n",
    "    await asyncio.sleep(1)\n",
    "    # pretty.pprint(dir(input))\n",
    "    print(\"\")\n",
    "    pretty.pprint(input.result())\n",
    "    return input.result()"
   ]
  },
  {
   "cell_type": "raw",
   "metadata": {},
   "source": [
    "loop = asyncio.get_event_loop()"
   ]
  },
  {
   "cell_type": "raw",
   "metadata": {},
   "source": [
    "start = datetime.datetime.now()\n",
    "\n",
    "\n",
    "chain = printme\n",
    "\n",
    "fut = asyncio.gather(doWork(10),doWork(20),doWork(20))\n",
    "fut.add_done_callback(printme)\n",
    "\n",
    "\n",
    "fut.add_done_callback(printme.add_done_callback(printagain))\n",
    "\n",
    "val = loop.run_until_complete(fut)\n",
    "print(datetime.datetime.now() - start)"
   ]
  },
  {
   "cell_type": "raw",
   "metadata": {
    "collapsed": true
   },
   "source": [
    "val"
   ]
  },
  {
   "cell_type": "raw",
   "metadata": {},
   "source": [
    "loop.close()"
   ]
  },
  {
   "cell_type": "raw",
   "metadata": {},
   "source": [
    "response = dynamodb.batch_write_item(\n",
    "    RequestItems={\n",
    "        'Posts': [\n",
    "            { 'PutRequest': {\n",
    "                    'Item': {\n",
    "                        'string1': 'string'|123|Binary(b'bytes')|True|None|set(['string'])|set([123])|set([Binary(b'bytes')])|[]|{}\n",
    "                        'string2': 'string'|123|Binary(b'bytes')|True|None|set(['string'])|set([123])|set([Binary(b'bytes')])|[]|{}\n",
    "                    }\n",
    "                },\n",
    "            },\n",
    "            { 'PutRequest': {\n",
    "                    'Item': {\n",
    "                        'string1': 'string'|123|Binary(b'bytes')|True|None|set(['string'])|set([123])|set([Binary(b'bytes')])|[]|{}\n",
    "                        'string2': 'string'|123|Binary(b'bytes')|True|None|set(['string'])|set([123])|set([Binary(b'bytes')])|[]|{}\n",
    "                    }\n",
    "                },\n",
    "            },\n",
    "            { 'PutRequest': {\n",
    "                    'Item': {\n",
    "                        'string1': 'string'|123|Binary(b'bytes')|True|None|set(['string'])|set([123])|set([Binary(b'bytes')])|[]|{}\n",
    "                        'string2': 'string'|123|Binary(b'bytes')|True|None|set(['string'])|set([123])|set([Binary(b'bytes')])|[]|{}\n",
    "                    }\n",
    "                },\n",
    "            }\n",
    "        ]\n",
    "    },\n",
    "    ReturnConsumedCapacity='INDEXES'|'TOTAL'|'NONE',\n",
    "    ReturnItemCollectionMetrics='SIZE'|'NONE'\n",
    ")"
   ]
  },
  {
   "cell_type": "code",
   "execution_count": null,
   "metadata": {},
   "outputs": [],
   "source": []
  }
 ],
 "metadata": {
  "kernelspec": {
   "display_name": "Python 3",
   "language": "python",
   "name": "python3"
  },
  "language_info": {
   "codemirror_mode": {
    "name": "ipython",
    "version": 3
   },
   "file_extension": ".py",
   "mimetype": "text/x-python",
   "name": "python",
   "nbconvert_exporter": "python",
   "pygments_lexer": "ipython3",
   "version": "3.6.0"
  }
 },
 "nbformat": 4,
 "nbformat_minor": 2
}
