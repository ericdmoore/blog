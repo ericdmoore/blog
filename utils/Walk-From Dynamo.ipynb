{
 "cells": [
  {
   "cell_type": "code",
   "execution_count": 1,
   "metadata": {},
   "outputs": [],
   "source": [
    "from os import walk, path\n",
    "from os.path import join, getsize\n",
    "from sys import getsizeof\n",
    "from decimal import *\n",
    "from math import log10, floor, pow\n",
    "import time, random, pprint, uuid \n",
    "import traceback\n",
    "import json\n",
    "import operator\n",
    "\n",
    "import pandas as pd\n",
    "import frontmatter\n",
    "from addict import Dict\n",
    "import boto3\n",
    "from boto3.dynamodb.conditions import Key, Attr\n",
    "import mistune\n",
    "\n",
    "pretty = pprint.PrettyPrinter(indent=1)\n",
    "getcontext().prec = 3 # for decimal conversion"
   ]
  },
  {
   "cell_type": "code",
   "execution_count": 2,
   "metadata": {},
   "outputs": [],
   "source": [
    "%matplotlib inline"
   ]
  },
  {
   "cell_type": "code",
   "execution_count": 3,
   "metadata": {},
   "outputs": [],
   "source": [
    "# use profile_name='personal_default'\n",
    "session = boto3.session.Session(profile_name=\"personal_default\")\n",
    "\n",
    "# see https://boto3.readthedocs.io/en/latest/reference/services/dynamodb.html?highlight=dynamodb#service-resource\n",
    "s3 = session.resource('s3')\n",
    "dydbr = session.resource('dynamodb', endpoint_url='http://localhost:8000', region_name='us-west-2')"
   ]
  },
  {
   "cell_type": "code",
   "execution_count": 4,
   "metadata": {},
   "outputs": [
    {
     "data": {
      "text/plain": [
       "[dynamodb.Table(name='MonthIdx'),\n",
       " dynamodb.Table(name='Posts'),\n",
       " dynamodb.Table(name='YearIdx')]"
      ]
     },
     "execution_count": 4,
     "metadata": {},
     "output_type": "execute_result"
    }
   ],
   "source": [
    "list(dydbr.tables.all())"
   ]
  },
  {
   "cell_type": "code",
   "execution_count": 6,
   "metadata": {},
   "outputs": [
    {
     "name": "stdout",
     "output_type": "stream",
     "text": [
      "[{'AttributeName': 'monthIdx', 'AttributeType': 'S'}]\n",
      "items:  24\n",
      "size:   5710\n",
      "[{'AttributeName': 'yearIdx', 'AttributeType': 'S'}]\n",
      "items:  2\n",
      "size:   4115\n",
      "[{'AttributeName': '_id', 'AttributeType': 'S'},\n",
      " {'AttributeName': '_loc', 'AttributeType': 'S'}]\n",
      "items:  123\n",
      "size:   351602\n"
     ]
    }
   ],
   "source": [
    "Posts = dydbr.Table('Posts')\n",
    "MonthIdx = dydbr.Table('MonthIdx')\n",
    "YearIdx = dydbr.Table('YearIdx')\n",
    "\n",
    "pretty.pprint(MonthIdx.attribute_definitions)\n",
    "print(\"items: \",MonthIdx.item_count)\n",
    "print(\"size:  \", MonthIdx.table_size_bytes)\n",
    "\n",
    "pretty.pprint(YearIdx.attribute_definitions)\n",
    "print(\"items: \", YearIdx.item_count)\n",
    "print(\"size:  \", YearIdx.table_size_bytes)\n",
    "\n",
    "pretty.pprint(Posts.attribute_definitions)\n",
    "print(\"items: \",Posts.item_count)\n",
    "print(\"size:  \", Posts.table_size_bytes)"
   ]
  },
  {
   "cell_type": "code",
   "execution_count": 8,
   "metadata": {},
   "outputs": [],
   "source": [
    "# YearIdx.query( KeyConditionExpression = Key('yearIdx').eq('2017'))['Items']"
   ]
  },
  {
   "cell_type": "code",
   "execution_count": 9,
   "metadata": {},
   "outputs": [],
   "source": [
    "def GetPosts(dydbr, by, value):\n",
    "    # defaults\n",
    "    if not by:\n",
    "        by=\"Year\"\n",
    "    \n",
    "    if \"year\" in by.lower():\n",
    "        YearIdx = dydbr.Table('YearIdx')\n",
    "        for item in YearIdx.query( KeyConditionExpression = Key('yearIdx').eq(str(value)))['Items']:\n",
    "            Item = Dict(item)\n",
    "            \n",
    "            # put each id in the key array into a dict with \"_id\" as its key\n",
    "            return Posts.meta.client.batch_get_item(RequestItems={\n",
    "                    'Posts': \n",
    "                        {'Keys': \n",
    "                          list(map(lambda x : {\"_id\":str(x)}, list(Item.posts.keys())))}\n",
    "                        })\n",
    "    if \"month\" in by.lower():\n",
    "        MonthIdx = dydbr.Table('MonthIdx')\n",
    "        for item in MonthIdx.query( KeyConditionExpression = Key('monthIdx').eq(str(value)))['Items']:\n",
    "            Item = Dict(item)\n",
    "            \n",
    "            # put each id in the key array into a dict with \"_id\" as its key\n",
    "            return Posts.meta.client.batch_get_item(RequestItems={\n",
    "                    'Posts': \n",
    "                        {'Keys': \n",
    "                          list(map(lambda x : {\"_id\":str(x)}, list(Item.posts.keys())))}\n",
    "                        })"
   ]
  },
  {
   "cell_type": "code",
   "execution_count": 10,
   "metadata": {},
   "outputs": [
    {
     "name": "stdout",
     "output_type": "stream",
     "text": [
      "CPU times: user 3 µs, sys: 1e+03 ns, total: 4 µs\n",
      "Wall time: 7.15 µs\n",
      "1\n",
      "done\n"
     ]
    }
   ],
   "source": [
    "%time\n",
    "posts = GetPosts(dydbr, by=\"Month\", value=\"2017-04\")['Responses']['Posts']\n",
    "print(len(posts))\n",
    "print(\"done\")"
   ]
  },
  {
   "cell_type": "code",
   "execution_count": 11,
   "metadata": {},
   "outputs": [
    {
     "data": {
      "text/plain": [
       "{'_id': '6212d117-75fd-4277-b745-8aa36ed79013',\n",
       " '_loc': '/2017/Quantity-Before-Quality',\n",
       " '_meta': {'@ref': 's3://BUCKET//2017/Quantity-Before-Quality',\n",
       "  '_id': '6212d117-75fd-4277-b745-8aa36ed79013',\n",
       "  'bytes': Decimal('3941'),\n",
       "  'epochCreate': Decimal('1513459233'),\n",
       "  'epochUpdate': Decimal('1492361221'),\n",
       "  'isDraft': True,\n",
       "  'layout': 'single_column',\n",
       "  'sizeB': Decimal('2983')},\n",
       " '_plugins': {'imageGrid': {'_config': {'1': True},\n",
       "   '_meta': {'1': True},\n",
       "   'input': {'1': True},\n",
       "   'rendered': {'1': True}}},\n",
       " 'loc': {'full': '/2017/Quantity-Before-Quality',\n",
       "  'root': '/',\n",
       "  'slug': 'Quantity-Before-Quality'},\n",
       " 'related': {'Next': {'1': True}, 'Prev': {'1': True}, 'Related': {'1': True}},\n",
       " 'type': 'post',\n",
       " 'written': {'Authors': [{'_id': '046fef4e-587a-46c2-94af-189a4cebff53',\n",
       "    'name': 'Eric D Moore'}],\n",
       "  'Content': {'processed': {'engine': '1:True',\n",
       "    'html': '1:True',\n",
       "    'md': '1:True'},\n",
       "   'raw': 'Macaroons and tires have more in common than you might think. They are both born of French-style iterative obession with perfection. And anyone who has attempted to make the perfect macaroon, can attest to at least two things: French people are cranky, and perfect macaroon are RARE. But alas perhap I too am now cranky. Furthermore, it is even more rare to make a \"perfect macaroon\" on your first try. If this is your fate, please never again make macaroons since you will unlikely to ever attain the same level of success.\\n\\n{% imageGrid cols=4 %}\\n  //via.placeholder.com/350.jpg/dddddd/333333\\n  //via.placeholder.com/350.jpg/333333/dddddd\\n  //via.placeholder.com/350.jpg/dddddd/333333\\n  //via.placeholder.com/350.jpg/333333/dddddd\\n{% endimageGrid %}\\n\\nMaking macaroons should be thought of as a process. And they only way to reach macaroon nirvana is to make a lot of bad macaroons. But alas C\\'est la vie! (That\\'s life!)\\n\\nMany aspects of business work very well when you not only write rougness into the plan, but embrace it. Say you are designing a new user interface that will show lots of data, and will need to accomodate multiple screens and 3 different user personas. A great way to start this type of creative process is to merely see how many different forms you can create. Go for 100.\\n<!-- more --> \\nYour first one the blatantly obvious one will create a constraint, that you will work around for the second, and then that pair creates a bigger constraint for the third, etc. By the time you get past 10 or so. You have usually decomposed the problem into a set of components, and an easy way to 100 is to merely draw out (qucikly) all the combinations of your component list. Doing this has revelead that not all components combinations are sensible. (some combinations will focus too much on styling, and not content, or leave formatting neglected.\\n\\nAlso pictured above is a hat tip to Michelin Tires. Few know that tires were one of the original business that tollerated repeated bad designs. Michelin invented the innertube tires for bicycles in 1889. Imagine that no need for glue to dry before you tire was usable again. Michelin is the same organization that runs the acalimed \"Michelin Star\" rating system for very high end restaurants. As Michelin Tires moved into more performance tires, they started various types of treads to deal with water conditions. But all of this was done at the time of Hidden Figures. Even later as computers gain power to start modeling liquid dynamics of a tire - it is actually faster to produce a tire and test it.\\n\\n**References:**\\n- http://blog.ycombinator.com/the-ceo-who-pays-employees-to-de-locate-from-the-bay/\\n-'},\n",
       "  'Title': 'Quantity Before Quality',\n",
       "  '_meta': {'categories': ['essay'],\n",
       "   'comments': False,\n",
       "   'cover_detail': '/images/wall-o-tires.jpg',\n",
       "   'cover_index': '/images/macaroons.jpg',\n",
       "   'description': None,\n",
       "   'subtitle': 'Those are NOT hamburgers!',\n",
       "   'tags': ['design',\n",
       "    'process',\n",
       "    'brainstorm',\n",
       "    'constraints',\n",
       "    'exploring',\n",
       "    'creation',\n",
       "    'creation'],\n",
       "   'title': 'Quantity Before Quality',\n",
       "   'toc': True}}}"
      ]
     },
     "execution_count": 11,
     "metadata": {},
     "output_type": "execute_result"
    }
   ],
   "source": [
    "GetPosts(dydbr, by=\"Year\", value=2017)[\"Responses\"][\"Posts\"][3]"
   ]
  },
  {
   "cell_type": "code",
   "execution_count": 12,
   "metadata": {},
   "outputs": [],
   "source": [
    "def foo(*positional, raw=False, **keywords, ):\n",
    "    print(\"Positional:\", positional)\n",
    "    print(\"Keywords:\", keywords)"
   ]
  },
  {
   "cell_type": "code",
   "execution_count": 13,
   "metadata": {},
   "outputs": [
    {
     "name": "stdout",
     "output_type": "stream",
     "text": [
      "Positional: ([{'_id': 'ABC'}],)\n",
      "Keywords: {}\n"
     ]
    }
   ],
   "source": [
    "foo([{\"_id\":\"ABC\"}])"
   ]
  },
  {
   "cell_type": "code",
   "execution_count": 86,
   "metadata": {},
   "outputs": [],
   "source": [
    "def Posts(*positional, raw=False, **keywords):\n",
    "    \"\"\" ::positional\n",
    "        @param (_id) = looking for Post IDs \n",
    "        \n",
    "        ::keywords\n",
    "        @param by: \"year | month | date | author | title | slug | content | <list[str]> | <None>\"\n",
    "            todo: \" meta:tags | meta:categories \"\n",
    "        @param value: \n",
    "        @param query: { #param(\"by\") : #param(\"value\") }\n",
    "        @param raw (False): Return the meta responses from Dynamo\n",
    "        \n",
    "        Conlicts & Hierarchy:\n",
    "            who wins if there are conflicting side door params.\n",
    "        \n",
    "        Overview:\n",
    "            1. Marshal input options into standardized input\n",
    "            2. Build out query and submit \n",
    "            3. Get Response, perhaps filter out meta and return\n",
    "    \n",
    "    \"\"\"\n",
    "    # todo: validate inputs\n",
    "    valid = set(['by', 'value','query','_id','_loc',\n",
    "                 'title','author','year','month','date',\n",
    "                 'author', 'slug'])\n",
    "    if len(set(keywords.keys()).difference(valid)):\n",
    "        # print('YIKES! Should we handle this extra arg word ???')\n",
    "        # print(set(keywords.keys()).difference(valid))\n",
    "        raise NotImplementedError(\"This arg word has not been implemented. (And may never be)\")\n",
    "    \n",
    "    params = {}\n",
    "    if 'query' in keywords:\n",
    "        params = keywords['query']\n",
    "    elif positional:\n",
    "        params = {\"_id\": list(*positional)}\n",
    "    else:\n",
    "        if \"by\" in keywords and 'value' in keywords:\n",
    "            if type(keywords['by']) is list:\n",
    "                assert(type(keywords['value']) is list)\n",
    "                params = dict(zip(keywords['by'], keywords['value']))\n",
    "            else:\n",
    "                params = {keywords['by'] : keywords['value']}\n",
    "        else:\n",
    "            params = keywords\n",
    "    # params is normalized\n",
    "    return params, raw"
   ]
  },
  {
   "cell_type": "code",
   "execution_count": 88,
   "metadata": {},
   "outputs": [],
   "source": [
    "# Tests\n",
    "assert(Posts(month=\"2017-01\") == Posts(by=\"month\", value=\"2017-01\"))\n",
    "assert(Posts(year=\"2017\") == Posts(by=\"year\", value=\"2017\"))\n",
    "assert(Posts(author=\"Eric\") == Posts(by=\"author\", value=\"Eric\"))\n",
    "assert(Posts(title=\"Amazing\") == Posts(by=\"title\", value=\"Amazing\"))\n",
    "assert(Posts(author=\"Eric\", year=\"2017\") == Posts(query= {\"year\":\"2017\", \"author\":\"Eric\"}) == Posts(by=[\"year\",\"author\"], value=[\"2017\",\"Eric\"]))\n",
    "assert(Posts([\"ABCD\",\"EFGH\", \"HIJK\"]) == Posts(query= {\"_id\":[\"ABCD\",\"EFGH\", \"HIJK\"]}) == Posts(by=\"_id\",value=[\"ABCD\",\"EFGH\", \"HIJK\"]))\n",
    "try:\n",
    "    foundException = False\n",
    "    Posts(invalid=\"Should Error\")\n",
    "except NotImplementedError as e:\n",
    "    assert(str(e) == \"This arg word has not been implemented. (And may never be)\")\n",
    "    foundException = True\n",
    "finally:\n",
    "    assert(foundException == True)"
   ]
  },
  {
   "cell_type": "markdown",
   "metadata": {},
   "source": [
    "    Dict = mg.Posts(by=\"month\",  \t\t\tvalue=\"2017-01\", \t\traw=false) # indexed :)\n",
    "    Dict = mg.Posts(month=\"2017-01\", \t\t                        raw=false) # indexed :)\n",
    "    Dict = mg.Posts(by=\"year\",   \t\t\tvalue=\"2017\", \t\t\traw=false) # indexed :)\n",
    "    Dict = mg.Posts(by=\"author\", \t\t\tvalue=\"Eric\",  \t\t\traw=false) # No index :(\n",
    "    Dict = mg.Posts(by=\"title\", \t\t\tvalue=\"How I fought\",\traw=false) # No index :(\n",
    "    Dict = mg.Posts(by=[\"year\",\"author\"], \tvalue=[\"2017\",\"Eric\"], \traw=false) # index? then filter :)\n",
    "    Dict = mg.Posts(by=[ids], \t\t\t\tvalue=[ids], \t\t\traw=false) # indexed :)\n",
    "    Dict = mg.Posts([{\"\\_id\":ABCDEF-EF-GH-HIJKLM}])                            # indexed :)\n",
    "    Dict = mg.Posts(by=\"content\",  \t\t\tvalue=\"Some written txt\",raw=false)# No index :(\n",
    "\n",
    "    Dict = mg.Posts(content=\"Some written txt\",raw=false)\n",
    "    Dict = mg.Posts(_loc=\"2017/some-location\", raw=false)\n",
    "    Dict = mg.Posts(slug=\"2017/some-location\", raw=false)\n",
    "    Dict = mg.Posts(title=\"A Great Title\",     raw=false)\n",
    "\n",
    "    dict = mg.Pages([{id:\"ABCDEF\"}], raw=False)\n",
    "    dict = mg.Pages(ids=[ids], \t\t raw=False)\n",
    "    dict = mg.Pages(slug=\"\", \t\t raw=False)\n",
    "    dict = mg.Pages(title=\"\", \t\t raw=False)\n",
    "\n",
    "    dict = mg.Authors([{id:\"ABCDEF\"}], \traw=False)\n",
    "    dict = mg.Authors(ids=[ids], \t\traw=False)\n",
    "    dict = mg.Authors(name=\"Eric\", \t\traw=False)\n",
    "    dict = mg.Authors(of=[{Post()}], \traw=False)\n",
    "\n",
    "    Dict = mg.Scaffolds(\"post\", \t\t\traw=False)\n",
    "    Dict = mg.Plugins(\"post\", \t\t\t\traw=False)\n",
    "    Dict = mg.InstallPlugin(Store, id=\"\", \traw=False)\n",
    "\n",
    "    Dict = mg.UploadDirectory(dir=\"abs/path/to/dir\", raw=False)\n",
    "    Dict = mg.UpdateMetadata(ids=[ids], meta=\"tags\", \t   find=\"this\", replace=\"that\", add=False, raw=False)\n",
    "    Dict = mg.UpdateMetadata(ids=[ids], meta=\"categories\", find=\"this\", replace=\"that\", add=False, raw=False)\n",
    "\n",
    "    Dict = mg.PostSave(type=\"\", absFilepath=\"/\", \traw=False) #Changes State\n",
    "    ~~Dict = mg.Change(type=\"\", absFilepath=\"/\", \traw=False)~~"
   ]
  },
  {
   "cell_type": "raw",
   "metadata": {},
   "source": []
  },
  {
   "cell_type": "code",
   "execution_count": null,
   "metadata": {},
   "outputs": [],
   "source": []
  }
 ],
 "metadata": {
  "kernelspec": {
   "display_name": "Python 3",
   "language": "python",
   "name": "python3"
  },
  "language_info": {
   "codemirror_mode": {
    "name": "ipython",
    "version": 3
   },
   "file_extension": ".py",
   "mimetype": "text/x-python",
   "name": "python",
   "nbconvert_exporter": "python",
   "pygments_lexer": "ipython3",
   "version": "3.6.0"
  }
 },
 "nbformat": 4,
 "nbformat_minor": 2
}
