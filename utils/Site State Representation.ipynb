{
 "cells": [
  {
   "cell_type": "markdown",
   "metadata": {},
   "source": [
    "Represent the Site State\n",
    "=================\n",
    "\n",
    "# Overview\n",
    "When the site's assets are created, create a machine readable representaton of what was created\n",
    "\n",
    "## Purpose\n",
    "\n",
    "On subsequent writes, the writer can minimize work by reading the current state and only performing needed work to get to the new state (only write the diffs)\n",
    "\n",
    "## Interface\n",
    "\n",
    "How would this all be represented?\n",
    "\n",
    "- `JSON`\n",
    "- `YML`?\n",
    "- `GIT`"
   ]
  },
  {
   "cell_type": "markdown",
   "metadata": {},
   "source": [
    "# Considerations:\n",
    "\n",
    "\n",
    "## What Version to Use\n",
    "\n",
    "- which file versions are being used.\n",
    "- so far not using versions always `@latest`\n",
    "\n",
    "## What Goes Where\n",
    "\n",
    "- which files are on what page\n"
   ]
  },
  {
   "cell_type": "markdown",
   "metadata": {},
   "source": [
    "    Index:\n",
    "        _meta:\n",
    "        [{_id},{_id},{_id}]\n",
    "    \n",
    "    Theme:\n",
    "        _meta:\n",
    "\n",
    "    Posts:\n",
    "        _meta:\n",
    "        pagination:\n",
    "            _meta:\n",
    "            \n",
    "            archive/page/2/:\n",
    "                _meta:\n",
    "                [{_id},{_id},{_id}]\n",
    "\n",
    "            archive/page/3/:\n",
    "                _meta:\n",
    "                [{_id},{_id},{_id}]\n",
    "            \n",
    "            archive/page/4/:\n",
    "                _meta:\n",
    "                [{_id},{_id},{_id}]\n",
    "            \n",
    "            archive/page/5/:\n",
    "                _meta:\n",
    "                [{_id},{_id},{_id}]\n",
    "    Pages:\n",
    "        _meta:\n",
    "        path/slugName:\n",
    "            \n",
    "        path/slugName:\n",
    "            \n",
    "        path/slugName:\n",
    "            \n",
    "    Tags:\n",
    "        _meta:\n",
    "        pagination:\n",
    "        \n",
    "    Categories:\n",
    "        _meta:\n",
    "        pagination:\n",
    "    \n",
    "    Plugins:\n",
    "        _meta:\n",
    "        sitemap:\n",
    "        rss:\n",
    "        search:\n",
    "        markdown:\n",
    "    \n",
    "    Static:\n",
    "        Images:\n",
    "        "
   ]
  },
  {
   "cell_type": "code",
   "execution_count": null,
   "metadata": {},
   "outputs": [],
   "source": []
  }
 ],
 "metadata": {
  "kernelspec": {
   "display_name": "Python 3",
   "language": "python",
   "name": "python3"
  },
  "language_info": {
   "codemirror_mode": {
    "name": "ipython",
    "version": 3
   },
   "file_extension": ".py",
   "mimetype": "text/x-python",
   "name": "python",
   "nbconvert_exporter": "python",
   "pygments_lexer": "ipython3",
   "version": "3.6.0"
  }
 },
 "nbformat": 4,
 "nbformat_minor": 2
}
