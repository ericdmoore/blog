{
 "cells": [
  {
   "cell_type": "markdown",
   "metadata": {},
   "source": [
    "## Table of Contents\n",
    "1. [Utilty Functions](#Utility𝑓(-)-&-Tests)\n",
    "1. [sigma spreads](#Remember-the-68–95–99.7-Rule)\n",
    "1. [Data Prep](#Data-Prep)\n",
    "1. [Analyze](#Analyze)\n",
    "1. [Prep for Storage Transport](#Prep-For-Storage-Transport)\n",
    "1. [Upload](#Upload-to-DynamoDB)\n",
    "1. [For Consideration](#For-Consideration)\n",
    "1. [Data Shape](#Data-Shape)\n",
    "1. [Query Playground](#Querying)"
   ]
  },
  {
   "cell_type": "code",
   "execution_count": 106,
   "metadata": {},
   "outputs": [],
   "source": [
    "from os import walk, path\n",
    "from os.path import join, getsize\n",
    "from sys import getsizeof\n",
    "from decimal import *\n",
    "from math import log10, floor, pow\n",
    "import time, random, pprint, uuid \n",
    "import traceback\n",
    "import json\n",
    "\n",
    "import pandas as pd\n",
    "import frontmatter\n",
    "from addict import Dict\n",
    "import boto3\n",
    "from boto3.dynamodb.conditions import Key, Attr\n",
    "import mistune\n",
    "\n",
    "pretty = pprint.PrettyPrinter(indent=1)\n",
    "getcontext().prec = 3 # for decimal conversion"
   ]
  },
  {
   "cell_type": "code",
   "execution_count": 107,
   "metadata": {},
   "outputs": [],
   "source": [
    "%matplotlib inline"
   ]
  },
  {
   "cell_type": "code",
   "execution_count": 108,
   "metadata": {},
   "outputs": [],
   "source": [
    "# use profile_name='personal_default'\n",
    "session = boto3.session.Session(profile_name=\"personal_default\")\n",
    "\n",
    "# see https://boto3.readthedocs.io/en/latest/reference/services/dynamodb.html?highlight=dynamodb#service-resource\n",
    "s3 = session.resource('s3')\n",
    "dydbr = session.resource('dynamodb', endpoint_url='http://localhost:8000', region_name='us-west-2')"
   ]
  },
  {
   "cell_type": "raw",
   "metadata": {},
   "source": [
    "# for b in list(s3.buckets.all())\n",
    "#     print(b)\n",
    "    \n",
    "pretty.pprint(list(s3.buckets.all())[:5])\n",
    "print(\"... total of \"+ str(len(list(s3.buckets.all()))))"
   ]
  },
  {
   "cell_type": "markdown",
   "metadata": {},
   "source": [
    "## Utility𝑓( ) & Tests"
   ]
  },
  {
   "cell_type": "code",
   "execution_count": 109,
   "metadata": {},
   "outputs": [],
   "source": [
    "## Section1 : Staging Data for Analysis\n",
    "def sigfig2(x):\n",
    "    return round(x, -int(floor(log10(abs(x))-1)))\n",
    "\n",
    "def sigScale2(x, scaletype, returntype):\n",
    "\n",
    "    scale = {'kb':{'val':3, 's':'kB: '}\n",
    "            ,'mb':{'val':6, 's':'mB: '}\n",
    "            ,'gb':{'val':7, 's':'gB: '}}\n",
    "    \n",
    "    if not str(scaletype).lower() in scale.keys():\n",
    "        raise Exception('Can not find input:scaletype')\n",
    "    else:\n",
    "        if returntype == 's':\n",
    "            return str(scale[str(scaletype)]['s']) + str(sigfig2(x / pow(10,scale[str(scaletype)]['val'])))\n",
    "        else:\n",
    "            return sigfig2(x) / pow(10,scale[str(scaletype)]['val'])\n",
    "\n",
    "assert(sigfig2(1234) == 1200 )\n",
    "assert(sigScale2(1234,'kb','s')==\"kB: 1.2\")\n",
    "assert(sigScale2(1234,'kb','n')== 1.2 )\n",
    "assert(sigScale2(1234567,'kb','n')== 1200.0)\n",
    "assert(sigScale2(1234567,'mb','s')==\"mB: 1.2\")\n",
    "try:\n",
    "    foundException = False\n",
    "    sigScale2(1234567,'ABC','b')\n",
    "except Exception as e:\n",
    "    assert(str(e) == \"Can not find input:scaletype\")\n",
    "    foundException = True\n",
    "finally:\n",
    "    assert(foundException is True)\n",
    "    \n",
    "## Section2 : Staging Data for Network Commute to Storage\n",
    "def getSlug(x):\n",
    "    \"\"\"grab file name from the path fs path\"\"\"\n",
    "    return x.split('.')[-2].split('/')[-1]\n",
    "        \n",
    "def getPath(item, name):\n",
    "    \"\"\"set year for the post path\"\"\"\n",
    "    # todo: set year baed on item\n",
    "    year = 2017\n",
    "    if item and 'createDate' in item:\n",
    "        year = time.strftime('%Y', time.localtime(item['_meta']['epochCreate']))\n",
    "    return '/'+str(year)+'/'+ getSlug(name)\n",
    "        \n",
    "def genId():\n",
    "    return str(uuid.uuid4())\n",
    "\n",
    "def getPubYYYYMM(input):\n",
    "    return 'Pub-'+str(random.randint(2016, 2018))+'-'+str(random.randint(1, 12))\n",
    "\n",
    "def chunks(arr, n):\n",
    "    \"\"\"Yield successive n-sized chunks from l.\"\"\"\n",
    "    for i in range(0, len(arr), n):\n",
    "        yield arr[i: i+n]\n",
    "        \n",
    "# Quick Tests\n",
    "assert(getSlug('../source/_drafts/The-Importance-of-Ownership.md') == \"The-Importance-of-Ownership\")\n",
    "assert(getSlug('../source/_drafts/Try-Teaching-Time-To-Market.md') == \"Try-Teaching-Time-To-Market\")\n",
    "assert(getSlug('/Users/ericmoore/Web/com.ericdmoore/source/_drafts/Finca-Cual-Bicicleta.md') == \"Finca-Cual-Bicicleta\")\n",
    "assert(list(chunks([1,2,3,4,5,6,7,8,9,10],1)) == [[1], [2], [3], [4], [5], [6], [7], [8], [9], [10]])\n",
    "assert(list(chunks([1,2,3,4,5,6,7,8,9,10],2)) == [[1, 2], [3, 4], [5, 6], [7, 8], [9, 10]])\n",
    "assert(list(chunks([1,2,3,4,5,6,7,8,9,10],3)) == [[1, 2, 3], [4, 5, 6], [7, 8, 9], [10]])\n",
    "assert(list(chunks([1,2,3,4,5,6,7,8,9,10],5)) == [[1, 2, 3, 4, 5], [6, 7, 8, 9, 10]])"
   ]
  },
  {
   "cell_type": "markdown",
   "metadata": {},
   "source": [
    "### Data Prep"
   ]
  },
  {
   "cell_type": "code",
   "execution_count": 110,
   "metadata": {},
   "outputs": [],
   "source": [
    "source_data = []\n",
    "image_data = []\n",
    "\n",
    "df_txt = pd.DataFrame(columns=['fullname', 'shortname', 'sizeB'])\n",
    "df_img = pd.DataFrame(columns=['fullname', 'shortname', 'sizeB'])\n",
    "\n",
    "# post_dir = '../source/_posts/'\n",
    "post_dirs = ['../source/_drafts/', '../source/_posts/']\n",
    "image_dirs = ['../source/images/']\n",
    "\n",
    "for _path in post_dirs:\n",
    "    for root, dirs, files in walk(_path, topdown=False):\n",
    "        for name in files:\n",
    "            if((not name.startswith(\".\")) and (name.endswith(\".md\"))):\n",
    "                abspth = path.abspath(path.join(root, name))\n",
    "                source_data.append({ \"fullname\":str(abspth)\n",
    "                                  ,\"shortname\":str(path.join(root, name))\n",
    "                                  ,\"sizeB\":path.getsize(abspth)})\n",
    "for _path in image_dirs:\n",
    "    for root, dirs, files in walk(_path, topdown=False):\n",
    "        for name in files:\n",
    "            if(not name.startswith(\".\")) and (\".\" in name):\n",
    "                abspth = path.abspath(path.join(root, name))\n",
    "                image_data.append({ \"fullname\":str(abspth)\n",
    "                                  ,\"shortname\":str(path.join(root, name))\n",
    "                                  ,\"sizeB\":path.getsize(abspth)})\n",
    "\n"
   ]
  },
  {
   "cell_type": "code",
   "execution_count": 111,
   "metadata": {},
   "outputs": [
    {
     "name": "stdout",
     "output_type": "stream",
     "text": [
      "[{'fullname': '/Users/ericmoore/Web/com.ericdmoore/source/_drafts/The-Importance-of-Ownership.md',\n",
      "  'shortname': '../source/_drafts/The-Importance-of-Ownership.md',\n",
      "  'sizeB': 790},\n",
      " {'fullname': '/Users/ericmoore/Web/com.ericdmoore/source/_drafts/Try-Teaching-Time-To-Market.md',\n",
      "  'shortname': '../source/_drafts/Try-Teaching-Time-To-Market.md',\n",
      "  'sizeB': 3799}]\n",
      "[{'fullname': '/Users/ericmoore/Web/com.ericdmoore/source/images/bikelane/shadowed-bike-lane.jpg',\n",
      "  'shortname': '../source/images/bikelane/shadowed-bike-lane.jpg',\n",
      "  'sizeB': 87366},\n",
      " {'fullname': '/Users/ericmoore/Web/com.ericdmoore/source/images/bikelane/bike-lane.jpg',\n",
      "  'shortname': '../source/images/bikelane/bike-lane.jpg',\n",
      "  'sizeB': 69546}]\n"
     ]
    }
   ],
   "source": [
    "pretty.pprint(source_data[:2])\n",
    "pretty.pprint(image_data[:2])"
   ]
  },
  {
   "cell_type": "code",
   "execution_count": 112,
   "metadata": {},
   "outputs": [],
   "source": [
    "df_txt = df_txt.append(source_data, ignore_index=False, verify_integrity=True)\n",
    "df_img = df_img.append(image_data,  ignore_index=False, verify_integrity=True)\n",
    "df_txt.sort_values([\"sizeB\"],inplace=True, ascending=False)\n",
    "df_img.sort_values([\"sizeB\"],inplace=True, ascending=False)\n",
    "\n",
    "# df_txt.head(3)"
   ]
  },
  {
   "cell_type": "code",
   "execution_count": 113,
   "metadata": {},
   "outputs": [],
   "source": [
    "# df_img.head(3)"
   ]
  },
  {
   "cell_type": "markdown",
   "metadata": {},
   "source": [
    "Remember the 68–95–99.7 Rule\n",
    "----------\n",
    "\n",
    "1σ ➛ 68% confidence\n",
    "\n",
    "2σ ➛ 95% confidence\n",
    "\n",
    "3σ ➛ 99.7% confidence"
   ]
  },
  {
   "cell_type": "code",
   "execution_count": 114,
   "metadata": {},
   "outputs": [
    {
     "data": {
      "text/html": [
       "<div>\n",
       "<style scoped>\n",
       "    .dataframe tbody tr th:only-of-type {\n",
       "        vertical-align: middle;\n",
       "    }\n",
       "\n",
       "    .dataframe tbody tr th {\n",
       "        vertical-align: top;\n",
       "    }\n",
       "\n",
       "    .dataframe thead th {\n",
       "        text-align: right;\n",
       "    }\n",
       "</style>\n",
       "<table border=\"1\" class=\"dataframe\">\n",
       "  <thead>\n",
       "    <tr style=\"text-align: right;\">\n",
       "      <th></th>\n",
       "      <th>fullname</th>\n",
       "      <th>shortname</th>\n",
       "      <th>sizeB</th>\n",
       "    </tr>\n",
       "  </thead>\n",
       "  <tbody>\n",
       "    <tr>\n",
       "      <th>126</th>\n",
       "      <td>/Users/ericmoore/Web/com.ericdmoore/source/_po...</td>\n",
       "      <td>../source/_posts/The-Crux-of-Pricing.md</td>\n",
       "      <td>11343</td>\n",
       "    </tr>\n",
       "    <tr>\n",
       "      <th>131</th>\n",
       "      <td>/Users/ericmoore/Web/com.ericdmoore/source/_po...</td>\n",
       "      <td>../source/_posts/Complex-vs-Complicated.md</td>\n",
       "      <td>10126</td>\n",
       "    </tr>\n",
       "    <tr>\n",
       "      <th>130</th>\n",
       "      <td>/Users/ericmoore/Web/com.ericdmoore/source/_po...</td>\n",
       "      <td>../source/_posts/The-Ethics-of-Analytics-Syste...</td>\n",
       "      <td>9946</td>\n",
       "    </tr>\n",
       "    <tr>\n",
       "      <th>31</th>\n",
       "      <td>/Users/ericmoore/Web/com.ericdmoore/source/_dr...</td>\n",
       "      <td>../source/_drafts/Connecting-The-Connectors.md</td>\n",
       "      <td>9810</td>\n",
       "    </tr>\n",
       "    <tr>\n",
       "      <th>33</th>\n",
       "      <td>/Users/ericmoore/Web/com.ericdmoore/source/_dr...</td>\n",
       "      <td>../source/_drafts/Favorite-Books-Of-Late.md</td>\n",
       "      <td>9038</td>\n",
       "    </tr>\n",
       "  </tbody>\n",
       "</table>\n",
       "</div>"
      ],
      "text/plain": [
       "                                              fullname  \\\n",
       "126  /Users/ericmoore/Web/com.ericdmoore/source/_po...   \n",
       "131  /Users/ericmoore/Web/com.ericdmoore/source/_po...   \n",
       "130  /Users/ericmoore/Web/com.ericdmoore/source/_po...   \n",
       "31   /Users/ericmoore/Web/com.ericdmoore/source/_dr...   \n",
       "33   /Users/ericmoore/Web/com.ericdmoore/source/_dr...   \n",
       "\n",
       "                                             shortname  sizeB  \n",
       "126            ../source/_posts/The-Crux-of-Pricing.md  11343  \n",
       "131         ../source/_posts/Complex-vs-Complicated.md  10126  \n",
       "130  ../source/_posts/The-Ethics-of-Analytics-Syste...   9946  \n",
       "31      ../source/_drafts/Connecting-The-Connectors.md   9810  \n",
       "33         ../source/_drafts/Favorite-Books-Of-Late.md   9038  "
      ]
     },
     "execution_count": 114,
     "metadata": {},
     "output_type": "execute_result"
    }
   ],
   "source": [
    "df_txt.head()"
   ]
  },
  {
   "cell_type": "markdown",
   "metadata": {},
   "source": [
    "### Analyze"
   ]
  },
  {
   "cell_type": "code",
   "execution_count": 115,
   "metadata": {
    "scrolled": false
   },
   "outputs": [
    {
     "name": "stdout",
     "output_type": "stream",
     "text": [
      "count=       135\n",
      "sum=     kB: 350.0\n",
      "avg=     kB: 2.6\n",
      "std=     kB: 2.3\n",
      "95%case= kB: 7.2\n",
      "min=     kB: 0.3\n",
      "max=     kB: 11.0\n",
      "plan for 10k source files + accompanying media\n"
     ]
    },
    {
     "data": {
      "image/png": "[encoded data removed]",
      "text/plain": [
       "<matplotlib.figure.Figure at 0x115484048>"
      ]
     },
     "metadata": {},
     "output_type": "display_data"
    }
   ],
   "source": [
    "df_txt['sizeB'].hist(bins=20)\n",
    "\n",
    "print(\"count=       \" +   str(df_txt['sizeB'].count()))\n",
    "print(\"sum=     \" + sigScale2(df_txt['sizeB'].sum(),'kb','s'))\n",
    "print(\"avg=     \" + sigScale2(df_txt['sizeB'].mean(),'kb','s'))\n",
    "print(\"std=     \" + sigScale2(df_txt['sizeB'].std(),'kb','s'))\n",
    "print(\"95%case= \" + sigScale2(df_txt['sizeB'].mean() + 2*df_txt['sizeB'].std(), 'kb','s'))\n",
    "print(\"min=     \" + sigScale2(df_txt['sizeB'].min(),'kb','s'))\n",
    "print(\"max=     \" + sigScale2(df_txt['sizeB'].max(),'kb','s'))\n",
    "print(\"plan for 10k source files + accompanying media\")"
   ]
  },
  {
   "cell_type": "code",
   "execution_count": 116,
   "metadata": {},
   "outputs": [
    {
     "name": "stdout",
     "output_type": "stream",
     "text": [
      "count=       432\n",
      "sum=     mB: 47.0\n",
      "avg=     kB: 110.0\n",
      "std=     kB: 100.0\n",
      "95%case= kB: 310.0\n",
      "min=     kB: 0.71\n",
      "max=     kB: 590.0\n",
      "plan for 300k image file\n"
     ]
    },
    {
     "data": {
      "image/png": "[encoded data removed]",
      "text/plain": [
       "<matplotlib.figure.Figure at 0x115417d68>"
      ]
     },
     "metadata": {},
     "output_type": "display_data"
    }
   ],
   "source": [
    "df_img['sizeB'].hist(bins=20)\n",
    "print(\"count=       \" +   str(df_img['sizeB'].count()))\n",
    "print(\"sum=     \" + sigScale2(df_img['sizeB'].sum(),'mb','s'))\n",
    "print(\"avg=     \" + sigScale2(df_img['sizeB'].mean(),'kb','s'))\n",
    "print(\"std=     \" + sigScale2(df_img['sizeB'].std(),'kb','s'))\n",
    "print(\"95%case= \" + sigScale2(df_img['sizeB'].mean() + 2*df_img['sizeB'].std(), 'kb','s'))\n",
    "print(\"min=     \" + sigScale2(df_img['sizeB'].min(),'kb','s'))\n",
    "print(\"max=     \" + sigScale2(df_img['sizeB'].max(),'kb','s'))\n",
    "print(\"plan for 300k image file\")"
   ]
  },
  {
   "cell_type": "raw",
   "metadata": {},
   "source": [
    "# df_txt[['shortname','size']][df_txt['size'] == df_txt['size'].max()]\n",
    "df_txt[['shortname','size']].head(5)"
   ]
  },
  {
   "cell_type": "raw",
   "metadata": {},
   "source": [
    "df_img[['shortname','size']].head(5)"
   ]
  },
  {
   "cell_type": "code",
   "execution_count": 117,
   "metadata": {},
   "outputs": [
    {
     "name": "stdout",
     "output_type": "stream",
     "text": [
      "[dynamodb.Table(name='MonthIdx'), dynamodb.Table(name='Posts'), dynamodb.Table(name='YearIdx')]\n"
     ]
    }
   ],
   "source": [
    "print(list(dydbr.tables.all()))"
   ]
  },
  {
   "cell_type": "markdown",
   "metadata": {},
   "source": [
    "### Prep For Storage Transport"
   ]
  },
  {
   "cell_type": "code",
   "execution_count": 118,
   "metadata": {},
   "outputs": [
    {
     "name": "stdout",
     "output_type": "stream",
     "text": [
      "[{'AttributeName': 'monthIdx', 'AttributeType': 'S'}]\n",
      "items:  24\n",
      "size:   5710\n",
      "[{'AttributeName': 'yearIdx', 'AttributeType': 'S'}]\n",
      "items:  2\n",
      "size:   4115\n",
      "[{'AttributeName': '_id', 'AttributeType': 'S'},\n",
      " {'AttributeName': '_loc', 'AttributeType': 'S'}]\n",
      "items:  123\n",
      "size:   351602\n"
     ]
    }
   ],
   "source": [
    "Posts = dydbr.Table('Posts')\n",
    "MonthIdx = dydbr.Table('MonthIdx')\n",
    "YearIdx = dydbr.Table('YearIdx')\n",
    "\n",
    "pretty.pprint(MonthIdx.attribute_definitions)\n",
    "print(\"items: \",MonthIdx.item_count)\n",
    "print(\"size:  \", MonthIdx.table_size_bytes)\n",
    "\n",
    "pretty.pprint(YearIdx.attribute_definitions)\n",
    "print(\"items: \", YearIdx.item_count)\n",
    "print(\"size:  \", YearIdx.table_size_bytes)\n",
    "\n",
    "pretty.pprint(Posts.attribute_definitions)\n",
    "print(\"items: \",Posts.item_count)\n",
    "print(\"size:  \", Posts.table_size_bytes)"
   ]
  },
  {
   "cell_type": "code",
   "execution_count": 119,
   "metadata": {
    "scrolled": false
   },
   "outputs": [
    {
     "name": "stdout",
     "output_type": "stream",
     "text": [
      "135\n",
      "{'_id': '953bd28e-9220-409e-954b-a2a4e6e20d62',\n",
      " '_loc': '/2017/On-Coffee-Snobbery',\n",
      " '_meta': {'@ref': 's3://BUCKET//2017/On-Coffee-Snobbery',\n",
      "           '_id': '953bd28e-9220-409e-954b-a2a4e6e20d62',\n",
      "           'bytes': 1411,\n",
      "           'epochCreate': 1543499339,\n",
      "           'epochUpdate': 1496540514,\n",
      "           'isDraft': True,\n",
      "           'layout': 'single_column',\n",
      "           'sizeB': 483},\n",
      " '_plugins': {'imageGrid': {'_config': {'1': True},\n",
      "                            '_meta': {'1': True},\n",
      "                            'input': {'1': True},\n",
      "                            'rendered': {'1': True}}},\n",
      " 'loc': {'full': '/2017/On-Coffee-Snobbery',\n",
      "         'root': '/',\n",
      "         'slug': 'On-Coffee-Snobbery'},\n",
      " 'related': {'Next': {'1': True}, 'Prev': {'1': True}, 'Related': {'1': True}},\n",
      " 'type': 'post',\n",
      " 'written': {'Authors': [{'_id': '1e1a8c0b-57eb-4d04-9d57-4abc19b03ba9',\n",
      "                          'name': 'Eric D Moore'}],\n",
      "             'Content': {'processed': {'engine': '1:True',\n",
      "                                       'html': '1:True',\n",
      "                                       'md': '1:True'},\n",
      "                         'raw': '{% imageGrid cols=4 %}\\n'\n",
      "                                '//via.placeholder.com/350.jpg/dddddd/333333\\n'\n",
      "                                '//via.placeholder.com/350.jpg/333333/dddddd\\n'\n",
      "                                '//via.placeholder.com/350.jpg/dddddd/333333\\n'\n",
      "                                '//via.placeholder.com/350.jpg/333333/dddddd\\n'\n",
      "                                '{% endimageGrid %}'},\n",
      "             'Title': 'On Coffee Snobbery',\n",
      "             '_meta': {'categories': ['essay'],\n",
      "                       'comments': False,\n",
      "                       'cover_detail': '/images/compass.jpg',\n",
      "                       'cover_index': '/images/coffee-on-marble.sq.jpg',\n",
      "                       'description': 'description - lorem ipsum',\n",
      "                       'subtitle': 'subtitle - lorem ipsum',\n",
      "                       'tags': ['culture', 'values', 'people'],\n",
      "                       'title': 'On Coffee Snobbery',\n",
      "                       'toc': True}}}\n"
     ]
    }
   ],
   "source": [
    "# renderer = mistune.Renderer(escape=True, hard_wrap=True)\n",
    "# # use this renderer instance\n",
    "# markdown = mistune.Markdown(renderer=renderer)\n",
    "# markdown(text)\n",
    "\n",
    "jumboEnvelope = {'Posts': []}\n",
    "\n",
    "for filedata in source_data:\n",
    "    with open(filedata['fullname']) as f:\n",
    "        post = frontmatter.load(f)\n",
    "        _id = genId() # to use twice\n",
    "        Item = {'_id':_id}\n",
    "        \n",
    "        Item['_meta'] = {  \"_id\":_id,\n",
    "                            \"epochCreate\":random.randint( 1483232461,  1544835661),\n",
    "                            \"epochUpdate\":random.randint( 1483232461,  1544835661),\n",
    "                            \"isDraft\": True,\n",
    "                            \"layout\":\"single_column\"}\n",
    "        Item['_loc'] = getPath(Item, filedata['shortname']) # depends on epochCreate\n",
    "        Item['loc'] = {'slug':getSlug(filedata['shortname']), \n",
    "                       'root':'/',\n",
    "                       'full':Item['_loc']}\n",
    "        Item['_meta'][\"@ref\"] = \"s3://\"+\"BUCKET/\"+Item['_loc']\n",
    "        Item['type'] = 'post'\n",
    "        \n",
    "        written = {  '_meta':post.metadata,\n",
    "                     'Title':post['title'],\n",
    "                     'Authors':[{'name':'Eric D Moore', '_id':genId()}],\n",
    "                     'Content':{'raw': post.content,\n",
    "                                'processed':{'engine':\"1:True\"\n",
    "                                            ,'md':\"1:True\"\n",
    "                                            ,'html':\"1:True\"}}}\n",
    "\n",
    "        # dydb dont like date times - find'em and swtichem to strings\n",
    "        if 'date' in written['_meta'].keys():\n",
    "            written['_meta']['date'] = int(written['_meta']['date'].timestamp())\n",
    "\n",
    "        Item['related'] = {'Next'   :{\"1\":True}, \n",
    "                           \"Prev\"   :{\"1\":True},\n",
    "                           \"Related\":{\"1\":True}}\n",
    "\n",
    "        Item['_plugins'] = {\"imageGrid\":{\"_meta\":{\"1\":True}, \n",
    "                                         \"input\":{\"1\":True},\n",
    "                                         \"_config\":{\"1\":True},\n",
    "                                         \"rendered\":{\"1\":True}}}            \n",
    "\n",
    "        # dydb wont allow empty strings\n",
    "        if \"\" in written['_meta'].values():\n",
    "            pretty.pprint(post.metadata)\n",
    "\n",
    "        # remove uneeded lower case Title - since the index expcets it upcase.            \n",
    "        Item.pop('title', None)\n",
    "\n",
    "        Item['written'] = written\n",
    "        Item['_meta']['sizeB'] = filedata['sizeB']\n",
    "        Item['_meta']['bytes'] = getsizeof(str(Item))\n",
    "\n",
    "        # form and add the ReqEnvelope to the batchEnvelope\n",
    "        Request = {'PutRequest':{'Item':Item}}\n",
    "        jumboEnvelope['Posts'].append(Request)\n",
    "\n",
    "    ## at the end of each batchChunk now in a batchEnvelope - add the envelop to the \n",
    "\n",
    "\n",
    "# skip4now(upload to s3)\n",
    "# upload to metadata skip4now(+ s3 location)\n",
    "# If Errors then you will see output needing to be reviewed.\n",
    "\n",
    "# Quick Preview\n",
    "\n",
    "r =random.randint(0,20)\n",
    "print(len(jumboEnvelope['Posts']))\n",
    "for i in range(r, r+1):\n",
    "    pretty.pprint(jumboEnvelope['Posts'][i]['PutRequest']['Item'])"
   ]
  },
  {
   "cell_type": "code",
   "execution_count": 78,
   "metadata": {},
   "outputs": [],
   "source": [
    "class YearIndex():\n",
    "    def __init__(self):\n",
    "        self.posts = {}\n",
    "        self._years = {}\n",
    "        self._months = {}\n",
    "        self._meta = {\"minDate\":float(\"Inf\"), \"maxDate\":0, \"bytes\":0, \"continued\":None}\n",
    "    \n",
    "    def __len__(self):\n",
    "        return len(self._years)\n",
    "    \n",
    "    def __getitem__(self, key):\n",
    "        return self._years[key]\n",
    "    \n",
    "    def __iter__(self):\n",
    "        for k in self._years:\n",
    "            yield k\n",
    "    def __next__(self):\n",
    "        for k in self._years:\n",
    "            yield k\n",
    "    \n",
    "    def _setMeta(self, cdt, ref_top_obj):   \n",
    "        if not ref_top_obj['_meta']:\n",
    "            pretty.pprint(ref_top_obj)\n",
    "        \n",
    "        self._metaDates(cdt, ref_top_obj['_meta'])\n",
    "        self._metaSize(ref_top_obj)\n",
    "        \n",
    "    def _metaSize(self, ref_top_obj):\n",
    "        ref_top_obj['_meta']['bytes'] = getsizeof(str(ref_top_obj['posts'])) + getsizeof(str(ref_top_obj['_meta']))\n",
    "    \n",
    "    def _metaDates(self, cdate, ref_obj):\n",
    "        \n",
    "        if not ref_obj or 'minDate' not in ref_obj:\n",
    "            pretty.pprint(ref_obj)\n",
    "\n",
    "        if cdate < ref_obj['minDate']:\n",
    "            ref_obj['minDate'] = cdate\n",
    "        if cdate > ref_obj['maxDate']:\n",
    "            ref_obj['maxDate'] = cdate\n",
    "        \n",
    "    \n",
    "    def merge(self, sibling):\n",
    "        raise NotImplemented\n",
    "        \n",
    "    def update(self, item):\n",
    "        Item = Dict(item)\n",
    "        createTime = Item._meta.epochCreate\n",
    "        \n",
    "        # convert to \"year-month\" key like 2018-12\n",
    "        yearKey = time.strftime('%Y', time.localtime(createTime))\n",
    "        monthKey = time.strftime('%Y-%m', time.localtime(createTime))\n",
    "        \n",
    "        # todo: early return if cache already has value\n",
    "        \n",
    "        self.posts[Item._id] = {\"title\":Item.written.Title, \n",
    "                                 \"loc\":Item._loc, \n",
    "                                 \"createDate\": Item._meta.epochCreate}\n",
    "        \n",
    "        # Year Structure\n",
    "        if yearKey not in self._years:\n",
    "            self._years[yearKey] = {\"yearIdx\":str(yearKey),\n",
    "                                    \"months\":{},\n",
    "                                    \"posts\":{},\n",
    "                                    \"_meta\":{\"bytes\":0,\n",
    "                                             \"minDate\":float('Inf'),\n",
    "                                             \"maxDate\":0}}\n",
    "        \n",
    "        self._years[yearKey]['posts'][Item._id] = {\"title\":Item.written.Title, \"loc\":Item._loc,\n",
    "                                                         \"createDate\": Item._meta.epochCreate}\n",
    "        \n",
    "        # Month Structure        \n",
    "        if monthKey not in self._years[yearKey]['months']:\n",
    "            self._years[yearKey]['months'][monthKey] = {\"posts\":{},\"_meta\":{\"bytes\":0,\n",
    "                                                       \"minDate\":float('Inf'),\n",
    "                                                       \"maxDate\":0}}   \n",
    "\n",
    "        self._years[yearKey]['months'][monthKey]['posts'][Item._id] = {\"title\":Item.written.Title, \"loc\":Item._loc,\n",
    "                                              \"createDate\": Item._meta.epochCreate}\n",
    "        \n",
    "        self._setMeta(createTime, self._years[yearKey]['months'][monthKey])\n",
    "        self._setMeta(createTime, self._years[yearKey])\n",
    "        self._setMeta(createTime, self.__dict__)\n",
    "        return len(self.posts)\n",
    "        \n",
    "    def data(self):\n",
    "        # chunk up into multiple index pre-filling the continued sections\n",
    "        return {\"_meta\":self._meta, \"years\":self._years}\n",
    "        \n",
    "    def chunks(self):\n",
    "        raise NotImplemented\n",
    "\n"
   ]
  },
  {
   "cell_type": "code",
   "execution_count": 79,
   "metadata": {},
   "outputs": [],
   "source": [
    "class MonthIndex():\n",
    "    def __init__(self):\n",
    "        self.posts = {}\n",
    "        self._months = {}\n",
    "        self._meta = {\"minDate\":float(\"Inf\"), \n",
    "                      \"maxDate\":0, \n",
    "                      \"bytes\":0, \n",
    "                      \"continued\":None}\n",
    "    \n",
    "    def __getitem__(self, key):\n",
    "        return self._months[key]\n",
    "    \n",
    "    def __len__(self):\n",
    "        return len(self._months)\n",
    "    \n",
    "    def __iter__(self):\n",
    "        for k in self._months:\n",
    "            yield k\n",
    "    def __next__(self):\n",
    "        for k in self._months:\n",
    "            yield k        \n",
    "    \n",
    "    def _setMeta(self, cdt, ref_top_obj):   \n",
    "        if not ref_top_obj['_meta']:\n",
    "            pretty.pprint(ref_top_obj)\n",
    "        \n",
    "        self._metaDates(cdt, ref_top_obj['_meta'])\n",
    "        self._metaSize(ref_top_obj)\n",
    "        \n",
    "    def _metaSize(self, ref_top_obj):\n",
    "        ref_top_obj['_meta']['bytes'] = getsizeof(str(ref_top_obj['posts'])) + getsizeof(str(ref_top_obj['_meta']))\n",
    "    \n",
    "    def _metaDates(self, cdate, ref_obj):\n",
    "        \n",
    "        if not ref_obj or 'minDate' not in ref_obj:\n",
    "            pretty.pprint(ref_obj)\n",
    "\n",
    "        if cdate < ref_obj['minDate']:\n",
    "            ref_obj['minDate'] = cdate\n",
    "        if cdate > ref_obj['maxDate']:\n",
    "            ref_obj['maxDate'] = cdate\n",
    "    \n",
    "    \n",
    "    def update(self, item):\n",
    "        Item = Dict(item)\n",
    "        createTime = Item._meta.epochCreate\n",
    "        # failed to use this var\n",
    "        yearMonthKey = time.strftime('%Y-%m', time.localtime(createTime))\n",
    "        \n",
    "        if yearMonthKey in self._months and Item._id in self._months[yearMonthKey]['posts']:\n",
    "            # Did we add something to the cache?\n",
    "            return False\n",
    "        else:\n",
    "            if yearMonthKey not in self._months:\n",
    "                self._months[yearMonthKey] = {\"monthIdx\":str(yearMonthKey),\n",
    "                                              \"posts\":{},\n",
    "                                              \"_meta\":{\"bytes\":0,\n",
    "                                                       \"minDate\":float('Inf'),\n",
    "                                                       \"maxDate\":0}}\n",
    "        \n",
    "            self._months[yearMonthKey]['posts'][Item._id] = {\"title\":Item.written.Title, \n",
    "                                                          \"loc\":Item._loc,\n",
    "                                                          \"createDate\": Item._meta.epochCreate}\n",
    "        \n",
    "            self._setMeta(createTime, self._months[yearMonthKey])\n",
    "            self._setMeta(createTime, self.__dict__)\n",
    "        return True\n",
    "\n",
    "    def data(self):\n",
    "        return {\"_meta\":self._meta, \"months\":self._months}\n",
    "    \n",
    "    def merge(self, sibling):\n",
    "        raise NotImplemented\n",
    "    \n",
    "    def chunks(self):\n",
    "        raise NotImplemented"
   ]
  },
  {
   "cell_type": "markdown",
   "metadata": {},
   "source": [
    "## Upload to DynamoDB "
   ]
  },
  {
   "cell_type": "markdown",
   "metadata": {},
   "source": [
    "### Assumptions: \n",
    "\n",
    "#### Input Data Shape\n",
    "    top level:\n",
    "    {'<tableName>':[ {1.Request} ]} \n",
    "       \n",
    "        the list of requssts may be 1000+ long \n",
    "            ...too long for the batch writer\n",
    "        When processing, will need to chunk that up into size:25\n",
    "\n",
    "        writer can handle 16 MB payload,\n",
    "        25 put or delete requests\n",
    "        Individual items to be written can be as large as 400 KB.\n",
    "        although it is interesting that .400M x25 = 10M (not 16M) ???  ¯\\_(ツ)_/¯\n",
    "    \n",
    "    \n",
    "    1.Request <Dict>\n",
    "    {'<MethodType>':{'Item:{<schema compliant data>}}}\n",
    "\n",
    "\n",
    "### Process Sketch\n",
    "    for each data table listed in the source data\n",
    "        while counter is less than 25\n",
    "            process each item\n",
    "            copy the PutRequest/Item for the data table into multi-table envelope\n",
    "            increent evelope request counter\n",
    "            Determine year idx key\n",
    "                add if needed && increment counter\n",
    "                otherwise udpate the payload of the existing key in the evelope\n",
    "            Determine the month idx key\n",
    "                add if needed && increment counter\n",
    "                otherwise udpate the payload of the existing key in the evelope\n",
    "            repeat until counter hits 25\n",
    "        then submit the envelope to the writer\n",
    "        continue to drain all the items for this table to the writer\n",
    "        then move to next table..."
   ]
  },
  {
   "cell_type": "code",
   "execution_count": 101,
   "metadata": {},
   "outputs": [],
   "source": [
    "mailCrate = []\n",
    "i = 0 \n",
    "\n",
    "def reshape(jumbo):\n",
    "    LIMIT = 26\n",
    "    LOWER = random.randint(0,20)\n",
    "    UPPER = LOWER + LIMIT\n",
    "    \n",
    "    for table in jumbo:\n",
    "        batchSet = []\n",
    "        yearIdx = YearIndex()\n",
    "        monthIdx = MonthIndex()\n",
    "        global i\n",
    "        \n",
    "        while(i < len(jumbo[table])):\n",
    "            while(len(batchSet) +len(monthIdx) +len(yearIdx) < 24): # because they can jump by two\n",
    "                req = jumbo[table][i]\n",
    "                \n",
    "                op = list(req.keys())[0]\n",
    "                item = req[op]['Item']\n",
    "\n",
    "                batchSet.append(item)\n",
    "                yearIdx.update(item)\n",
    "                monthIdx.update(item)\n",
    "                i += 1\n",
    "            \n",
    "            # create batchObj\n",
    "            batchEnvelope = {}\n",
    "            if len(yearIdx):\n",
    "                batchEnvelope['YearIdx'] = []\n",
    "                for key in yearIdx:\n",
    "                    batchEnvelope['YearIdx'].append({\"PutRequest\":{\"Item\": yearIdx[key]}})\n",
    "                \n",
    "            if len(monthIdx):\n",
    "                batchEnvelope['MonthIdx'] = []\n",
    "                for key in monthIdx:\n",
    "                    batchEnvelope['MonthIdx'].append({\"PutRequest\":{\"Item\": monthIdx[key] }})\n",
    "                \n",
    "            if len(batchSet): \n",
    "                batchEnvelope['Posts'] = []\n",
    "                for item in batchSet:\n",
    "                    batchEnvelope['Posts'].append({\"PutRequest\":{\"Item\": item }})\n",
    "            \n",
    "            mailCrate.append(batchEnvelope)\n",
    "            \n",
    "            # dump it all into Dynamo \n",
    "            try:\n",
    "                r = dydbr.batch_write_item(RequestItems=batchEnvelope)\n",
    "                if r and 'UnprocessedItems' in r and r['UnprocessedItems']: #exists and is notEmpty\n",
    "                    time.sleep(1.000)\n",
    "                    r = dydbr.batch_write_item(RequestItems=r.UnprocessedItems)\n",
    "                    print(\">> found unprocessed\")\n",
    "                    pretty.pprint(r)\n",
    "            except Exception as e:\n",
    "                print(e)\n",
    "                print(\">>>>>^^^^^^\")\n",
    "                # pretty.pprint(r)\n",
    "            \n",
    "            # and reset\n",
    "            batchSet = []\n",
    "            yearIdx = YearIndex()\n",
    "            monthIdx = MonthIndex()\n",
    "                                  "
   ]
  },
  {
   "cell_type": "code",
   "execution_count": 103,
   "metadata": {},
   "outputs": [
    {
     "ename": "IndexError",
     "evalue": "list index out of range",
     "output_type": "error",
     "traceback": [
      "\u001b[0;31m---------------------------------------------------------------------------\u001b[0m",
      "\u001b[0;31mIndexError\u001b[0m                                Traceback (most recent call last)",
      "\u001b[0;32m<ipython-input-103-3dda420eb46e>\u001b[0m in \u001b[0;36m<module>\u001b[0;34m()\u001b[0m\n\u001b[0;32m----> 1\u001b[0;31m \u001b[0mreshape\u001b[0m\u001b[0;34m(\u001b[0m\u001b[0mjumboEnvelope\u001b[0m\u001b[0;34m)\u001b[0m\u001b[0;34m\u001b[0m\u001b[0m\n\u001b[0m",
      "\u001b[0;32m<ipython-input-101-1a8888f29bad>\u001b[0m in \u001b[0;36mreshape\u001b[0;34m(jumbo)\u001b[0m\n\u001b[1;32m     15\u001b[0m         \u001b[0;32mwhile\u001b[0m\u001b[0;34m(\u001b[0m\u001b[0mi\u001b[0m \u001b[0;34m<\u001b[0m \u001b[0mlen\u001b[0m\u001b[0;34m(\u001b[0m\u001b[0mjumbo\u001b[0m\u001b[0;34m[\u001b[0m\u001b[0mtable\u001b[0m\u001b[0;34m]\u001b[0m\u001b[0;34m)\u001b[0m\u001b[0;34m)\u001b[0m\u001b[0;34m:\u001b[0m\u001b[0;34m\u001b[0m\u001b[0m\n\u001b[1;32m     16\u001b[0m             \u001b[0;32mwhile\u001b[0m\u001b[0;34m(\u001b[0m\u001b[0mlen\u001b[0m\u001b[0;34m(\u001b[0m\u001b[0mbatchSet\u001b[0m\u001b[0;34m)\u001b[0m \u001b[0;34m+\u001b[0m\u001b[0mlen\u001b[0m\u001b[0;34m(\u001b[0m\u001b[0mmonthIdx\u001b[0m\u001b[0;34m)\u001b[0m \u001b[0;34m+\u001b[0m\u001b[0mlen\u001b[0m\u001b[0;34m(\u001b[0m\u001b[0myearIdx\u001b[0m\u001b[0;34m)\u001b[0m \u001b[0;34m<\u001b[0m \u001b[0;36m24\u001b[0m\u001b[0;34m)\u001b[0m\u001b[0;34m:\u001b[0m \u001b[0;31m# because they can jump by two\u001b[0m\u001b[0;34m\u001b[0m\u001b[0m\n\u001b[0;32m---> 17\u001b[0;31m                 \u001b[0mreq\u001b[0m \u001b[0;34m=\u001b[0m \u001b[0mjumbo\u001b[0m\u001b[0;34m[\u001b[0m\u001b[0mtable\u001b[0m\u001b[0;34m]\u001b[0m\u001b[0;34m[\u001b[0m\u001b[0mi\u001b[0m\u001b[0;34m]\u001b[0m\u001b[0;34m\u001b[0m\u001b[0m\n\u001b[0m\u001b[1;32m     18\u001b[0m \u001b[0;34m\u001b[0m\u001b[0m\n\u001b[1;32m     19\u001b[0m                 \u001b[0mop\u001b[0m \u001b[0;34m=\u001b[0m \u001b[0mlist\u001b[0m\u001b[0;34m(\u001b[0m\u001b[0mreq\u001b[0m\u001b[0;34m.\u001b[0m\u001b[0mkeys\u001b[0m\u001b[0;34m(\u001b[0m\u001b[0;34m)\u001b[0m\u001b[0;34m)\u001b[0m\u001b[0;34m[\u001b[0m\u001b[0;36m0\u001b[0m\u001b[0;34m]\u001b[0m\u001b[0;34m\u001b[0m\u001b[0m\n",
      "\u001b[0;31mIndexError\u001b[0m: list index out of range"
     ]
    }
   ],
   "source": [
    "reshape(jumboEnvelope)"
   ]
  },
  {
   "cell_type": "code",
   "execution_count": 104,
   "metadata": {},
   "outputs": [
    {
     "data": {
      "text/plain": [
       "134"
      ]
     },
     "execution_count": 104,
     "metadata": {},
     "output_type": "execute_result"
    }
   ],
   "source": [
    "i"
   ]
  },
  {
   "cell_type": "code",
   "execution_count": null,
   "metadata": {},
   "outputs": [],
   "source": []
  },
  {
   "cell_type": "markdown",
   "metadata": {},
   "source": [
    "### Existing Upload Process"
   ]
  },
  {
   "cell_type": "code",
   "execution_count": null,
   "metadata": {
    "scrolled": true
   },
   "outputs": [],
   "source": [
    "for batch in mailingCrate:\n",
    "    # pretty.pprint(batch)\n",
    "    try:\n",
    "        r = dydbr.batch_write_item(RequestItems=batch)\n",
    "        if 'UnprocessedItems' in r and r['UnprocessedItems']: #and map has contents\n",
    "            time.sleep(.500)\n",
    "            dydbr.batch_write_item(RequestItems=r.UnprocessedItems)\n",
    "            print(\">> found unprocessed\")\n",
    "            pretty.pprint(r)\n",
    "    except Exception as e:\n",
    "        print(e)\n",
    "        print(\">>>>>^^^^^^\")\n",
    "        for post in batch['Posts']:\n",
    "            pretty.pprint(post['PutRequest']['Item'])"
   ]
  },
  {
   "cell_type": "markdown",
   "metadata": {},
   "source": [
    "**Target**\n",
    "\n",
    "        {\n",
    "\t    \"@_id\":\"<uuid>\",\n",
    "\t    \"*loc\":\"\",\n",
    "\t    \"_meta*\":{        \n",
    "\t        \"_id\":\"<S uuid >\",\n",
    "\t        \"createDate\":\"<S> or <DateObj>\",\n",
    "\t        \"udpateDate\":\"<S> or <DateObj>\",\n",
    "\t        \"isDraft\": true,\n",
    "\t        \"@ref\":\"<s3://>\",\n",
    "\t        \"layout\":\"single column\"\n",
    "\t    },\n",
    "\t    \"_loc*\":{\n",
    "\t        \"slug\":\"<partial_url>\",\n",
    "\t        \"root\":\"/blog\",\n",
    "\t    },\n",
    "\t    \"written*\":{\n",
    "\t        \"_meta\":{\n",
    "\t            \"post_metadata1\":\"Value1\",\n",
    "\t            \"post_metadata2\":\"Value2\",\n",
    "\t            \"post_metadata3\":\"Value3\",\n",
    "\t            \"tags\":[\"<S>\"]\n",
    "\t        },\n",
    "\t        \"Title\":\"\",\n",
    "\t        \"Authors\":[],\n",
    "\t        \"Content\":{\n",
    "\t            \"raw\":\"\",\n",
    "\t            \"processed\":{\n",
    "\t                \"engine\":\"\",\n",
    "\t                \"md\":{\n",
    "\t                    \"total\":\"\",\n",
    "\t                    \"excerpt\":\"\",\n",
    "\t                    \"more\":\"\",\n",
    "\t                    \"plugins\":{\n",
    "\t                        \"nameID\":[],\n",
    "\t                        \"nameID\":[]\n",
    "\t                    }\n",
    "\t                },\n",
    "\t                \"html\":{\n",
    "\t                    \"total\":\"\",\n",
    "\t                    \"excerpt\":\"\",\n",
    "\t                    \"more\":\"\",\n",
    "\t                    \"plugins\":{\n",
    "\t                        \"nameID1\":[],\n",
    "\t                        \"nameID2\":[]\n",
    "\t                    }\n",
    "\t                }\n",
    "\t            }\n",
    "\t        },\n",
    "\t    \"@type\":\"post\"\n",
    "\t    },\n",
    "\t    \"_related*\":{\n",
    "\t\t\t    \"Next\":{},\n",
    "\t        \"Prev\":{},\n",
    "\t        \"Related\":[\n",
    "\t\t\t        {\"_id\":\"\"},\n",
    "\t\t\t        {\"_id\":\"\"},\n",
    "\t\t\t        {\"_id\":\"\"}\n",
    "\t\t\t\t   ]\n",
    "\t    },\n",
    "\t    \"_plugins*\":{\n",
    "\t        \"plugin1\":{\n",
    "\t            \"rendered\":\"\",\n",
    "\t            \"input\":\"\",\n",
    "\t            \"_config\":{\n",
    "\t                \"\":\"\"\n",
    "\t            },\n",
    "\t            \"_meta\":{\n",
    "\t                \"asd\":\"asd\"\n",
    "\t            }\n",
    "\t        },\n",
    "\t        \"pluginTwo\":{\n",
    "\t            \"rendered\":\"\",\n",
    "\t            \"input\":\"\",\n",
    "\t            \"_config\":{\n",
    "\t                \"\":\"\"\n",
    "\t            },\n",
    "\t            \"_meta\":{\n",
    "\t                \"asd\":\"asd\"\n",
    "\t            }\n",
    "\t        },\n",
    "\t    },\n",
    "\t}\t\t\n"
   ]
  },
  {
   "cell_type": "markdown",
   "metadata": {},
   "source": [
    "### Proto Query"
   ]
  },
  {
   "cell_type": "code",
   "execution_count": null,
   "metadata": {},
   "outputs": [],
   "source": [
    "p = dydbr.Table('Posts')\n",
    "p.get_item( Key={'Pub-YYYY-MM':'Pub-2018-12',\n",
    "            'Slug':\"A-Talent-of-Attracting-Talent\"},\n",
    "            ReturnConsumedCapacity='INDEXES'\n",
    "          )"
   ]
  },
  {
   "cell_type": "markdown",
   "metadata": {},
   "source": [
    "### For Consideration"
   ]
  },
  {
   "cell_type": "markdown",
   "metadata": {},
   "source": [
    "1. Populate a `Tags` table\n",
    "2. Populate a `Categories` table"
   ]
  },
  {
   "cell_type": "markdown",
   "metadata": {},
   "source": [
    "### Querying"
   ]
  },
  {
   "cell_type": "code",
   "execution_count": null,
   "metadata": {},
   "outputs": [],
   "source": [
    "Posts = dydbr.Table('Posts')"
   ]
  },
  {
   "cell_type": "code",
   "execution_count": null,
   "metadata": {},
   "outputs": [],
   "source": [
    "query_params = {\n",
    "    'Select':'ALL_ATTRIBUTES', # 'ALL_ATTRIBUTES'|'ALL_PROJECTED_ATTRIBUTES'|'SPECIFIC_ATTRIBUTES'|'COUNT'\n",
    "    'Limit':100,\n",
    "    'ConsistentRead':True,\n",
    "    'ScanIndexForward':True,\n",
    "    'KeyConditionExpression': Key('Slug').eq('The-Importance-of-Ownership'),\n",
    "    'ReturnConsumedCapacity':'TOTAL' #  'INDEXES'|'TOTAL'|'NONE',\n",
    "#     IndexName='string',\n",
    "#     FilterExpression=Attr('myattribute').eq('myvalue'),\n",
    "#     ExpressionAttributeNames={\n",
    "#         'string': 'string'\n",
    "#     },\n",
    "#     ExpressionAttributeValues={\n",
    "#         'string': 'string'|123|Binary(b'bytes')|True|None|set(['string'])|set([123])|set([Binary(b'bytes')])|[]|{}\n",
    "#     }\n",
    "#     ExclusiveStartKey={\n",
    "#         'string': 'string'|123|Binary(b'bytes')|True|None|set(['string'])|set([123])|set([Binary(b'bytes')])|[]|{}\n",
    "#     },\n",
    "#     ProjectionExpression='string',\n",
    "}\n",
    "response = Posts.query(**query_params)\n",
    "response"
   ]
  },
  {
   "cell_type": "code",
   "execution_count": null,
   "metadata": {},
   "outputs": [],
   "source": [
    "Posts.query( KeyConditionExpression = Key('Slug').eq('The-Importance-of-Ownership'))"
   ]
  },
  {
   "cell_type": "code",
   "execution_count": null,
   "metadata": {},
   "outputs": [],
   "source": [
    "# pretty.pprint(dir(Key('Slug').begins_with(\"The\")))\n",
    "Posts.query( KeyConditionExpression = Key('Slug').begins_with(\"The\"))"
   ]
  },
  {
   "cell_type": "code",
   "execution_count": null,
   "metadata": {},
   "outputs": [],
   "source": [
    "paginator = dydbr.meta.client.get_paginator('query')\n"
   ]
  },
  {
   "cell_type": "markdown",
   "metadata": {},
   "source": [
    "### Required Dynamo Data Shape"
   ]
  },
  {
   "cell_type": "code",
   "execution_count": null,
   "metadata": {},
   "outputs": [],
   "source": [
    "\"\"\"Target:\n",
    "\n",
    "    {'Posts': [\n",
    "                { 'PutRequest': {\n",
    "                        'Item': {\n",
    "                            'string1': \"string\"\n",
    "                            'string2': 123\n",
    "                            'string2': Binary(b'bytes')\n",
    "                            'string2': True\n",
    "                            'string2': None\n",
    "                            'string2': set(['string'])\n",
    "                            'string2': set([123])\n",
    "                            'string2': set(Binary[b'bytes'])\n",
    "                            'string2': []\n",
    "                            'string2': {}\n",
    "                        }\n",
    "                    },\n",
    "                },\n",
    "                { 'PutRequest': {\n",
    "                        'Item': {\n",
    "                            'string1': 'string'\n",
    "                            'string2': 123\n",
    "                        }\n",
    "                    },\n",
    "                },\n",
    "                { 'PutRequest': {\n",
    "                        'Item': {\n",
    "                            'string1': 'string'\n",
    "                            'string2': set(['string'])\n",
    "                        }\n",
    "                    },\n",
    "                }\n",
    "            ]\n",
    "    }\"\"\""
   ]
  },
  {
   "cell_type": "code",
   "execution_count": null,
   "metadata": {},
   "outputs": [],
   "source": [
    "\"\"\"{ 'Posts': [ \n",
    "        { 'PutRequest': { \n",
    "                'Item': { \n",
    "                    'Slug': 'The-Importance-of-Ownership',\n",
    "                    'Title': 'The Importance of Ownership',\n",
    "                     '_content': 'The American Dream\\n',\n",
    "                     '_id': 'd6c9370e-5d10-4321-af8a-d41e2757394c',\n",
    "                     'categories': ['business'],\n",
    "                     'comments': False,\n",
    "                     'cover_detail': '/images/crooked-house_square@450x450.jpg',\n",
    "                     'cover_index': '/images/crooked-house_square@450x450.jpg',\n",
    "                     'description': 'description - lorem '\n",
    "                                    'ipsum',\n",
    "                     'subtitle': 'subtitle - lorem ipsum',\n",
    "                     'tags': [ 'values','ownership','culture','destiny','content.creation','rules','terms'],\n",
    "                     'toc': True\n",
    "                     }\n",
    "                 }\n",
    "        }\"\"\""
   ]
  },
  {
   "cell_type": "markdown",
   "metadata": {},
   "source": [
    "### S3 Stuff Later"
   ]
  },
  {
   "cell_type": "raw",
   "metadata": {},
   "source": [
    "see ref: https://boto3.readthedocs.io/en/latest/reference/services/s3.html#S3.Bucket.upload_file\n",
    "\n",
    "    import boto3\n",
    "    s3 = boto3.resource('s3')\n",
    "    s3.Bucket('mybucket').upload_file('/tmp/hello.txt', 'hello.txt')\n",
    "\n",
    "see ref: https://boto3.readthedocs.io/en/latest/reference/services/s3.html#S3.Bucket.upload_fileobj \n",
    "\n",
    "    import boto3\n",
    "    s3 = boto3.resource('s3')\n",
    "    bucket = s3.Bucket('mybucket')\n",
    "\n",
    "    with open('filename', 'rb') as data:\n",
    "        bucket.upload_fileobj(data, 'mykey')"
   ]
  },
  {
   "cell_type": "code",
   "execution_count": null,
   "metadata": {},
   "outputs": [],
   "source": []
  }
 ],
 "metadata": {
  "kernelspec": {
   "display_name": "Python 3",
   "language": "python",
   "name": "python3"
  },
  "language_info": {
   "codemirror_mode": {
    "name": "ipython",
    "version": 3
   },
   "file_extension": ".py",
   "mimetype": "text/x-python",
   "name": "python",
   "nbconvert_exporter": "python",
   "pygments_lexer": "ipython3",
   "version": "3.6.0"
  }
 },
 "nbformat": 4,
 "nbformat_minor": 2
}
